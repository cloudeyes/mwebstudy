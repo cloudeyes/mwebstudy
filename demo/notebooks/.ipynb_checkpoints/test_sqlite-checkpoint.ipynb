{
 "cells": [
  {
   "cell_type": "code",
   "execution_count": 1,
   "id": "43d9ba37-7c33-4ad5-b018-23af7af2f971",
   "metadata": {},
   "outputs": [],
   "source": [
    "import sqlite3\n",
    "\n",
    "db = sqlite3.connect('../src/main/resources/test.db')"
   ]
  },
  {
   "cell_type": "code",
   "execution_count": 2,
   "id": "263e848d-6b76-4d88-bcb4-2a4654f8307f",
   "metadata": {},
   "outputs": [
    {
     "ename": "OperationalError",
     "evalue": "table User already exists",
     "output_type": "error",
     "traceback": [
      "\u001b[0;31m---------------------------------------------------------------------------\u001b[0m",
      "\u001b[0;31mOperationalError\u001b[0m                          Traceback (most recent call last)",
      "Cell \u001b[0;32mIn[2], line 1\u001b[0m\n\u001b[0;32m----> 1\u001b[0m \u001b[43mdb\u001b[49m\u001b[38;5;241;43m.\u001b[39;49m\u001b[43mexecute\u001b[49m\u001b[43m(\u001b[49m\u001b[38;5;124;43m'''\u001b[39;49m\n\u001b[1;32m      2\u001b[0m \u001b[38;5;124;43mCREATE TABLE User (\u001b[39;49m\n\u001b[1;32m      3\u001b[0m \u001b[38;5;124;43m    id VARCHAR(50) PRIMARY KEY,\u001b[39;49m\n\u001b[1;32m      4\u001b[0m \u001b[38;5;124;43m    name VARCHAR(50)\u001b[39;49m\n\u001b[1;32m      5\u001b[0m \u001b[38;5;124;43m)\u001b[39;49m\n\u001b[1;32m      6\u001b[0m \u001b[38;5;124;43m'''\u001b[39;49m\u001b[43m)\u001b[49m\n",
      "\u001b[0;31mOperationalError\u001b[0m: table User already exists"
     ]
    }
   ],
   "source": [
    "db.execute('''\n",
    "CREATE TABLE User (\n",
    "    id VARCHAR(50) PRIMARY KEY,\n",
    "    name VARCHAR(50)\n",
    ")\n",
    "''')"
   ]
  },
  {
   "cell_type": "code",
   "execution_count": null,
   "id": "9a934846-02f8-41e4-84af-879fa2d7b7de",
   "metadata": {},
   "outputs": [],
   "source": [
    "!pip install pandas"
   ]
  },
  {
   "cell_type": "code",
   "execution_count": 3,
   "id": "e6e6f791-70d5-4b5a-b11a-cd67e8248ab3",
   "metadata": {},
   "outputs": [
    {
     "data": {
      "text/html": [
       "<div>\n",
       "<style scoped>\n",
       "    .dataframe tbody tr th:only-of-type {\n",
       "        vertical-align: middle;\n",
       "    }\n",
       "\n",
       "    .dataframe tbody tr th {\n",
       "        vertical-align: top;\n",
       "    }\n",
       "\n",
       "    .dataframe thead th {\n",
       "        text-align: right;\n",
       "    }\n",
       "</style>\n",
       "<table border=\"1\" class=\"dataframe\">\n",
       "  <thead>\n",
       "    <tr style=\"text-align: right;\">\n",
       "      <th></th>\n",
       "      <th>id</th>\n",
       "      <th>name</th>\n",
       "    </tr>\n",
       "  </thead>\n",
       "  <tbody>\n",
       "  </tbody>\n",
       "</table>\n",
       "</div>"
      ],
      "text/plain": [
       "Empty DataFrame\n",
       "Columns: [id, name]\n",
       "Index: []"
      ]
     },
     "execution_count": 3,
     "metadata": {},
     "output_type": "execute_result"
    }
   ],
   "source": [
    "import pandas as pd\n",
    "\n",
    "pd.read_sql('''SELECT * FROM user''', db)"
   ]
  },
  {
   "cell_type": "code",
   "execution_count": 4,
   "id": "49fe88c2-c4cb-49cc-ac7b-cc9e56dc0015",
   "metadata": {},
   "outputs": [
    {
     "data": {
      "text/plain": [
       "<sqlite3.Cursor at 0x11f362240>"
      ]
     },
     "execution_count": 4,
     "metadata": {},
     "output_type": "execute_result"
    }
   ],
   "source": [
    "db.execute('''\n",
    "INSERT INTO user (id, name) VALUES\n",
    "    ('user.kim', 'User Kim'),\n",
    "    ('user.park', 'User Park');\n",
    "''')"
   ]
  },
  {
   "cell_type": "code",
   "execution_count": 5,
   "id": "16004224-0db4-4220-8757-7e1af6874252",
   "metadata": {},
   "outputs": [],
   "source": [
    "db.commit()"
   ]
  },
  {
   "cell_type": "code",
   "execution_count": null,
   "id": "ba637497-2fdb-4d2a-8f09-e5faeb3d2755",
   "metadata": {},
   "outputs": [],
   "source": [
    "db.execute('''DELETE FROM user''')\n",
    "db.commit()"
   ]
  }
 ],
 "metadata": {
  "kernelspec": {
   "display_name": "Python 3 (ipykernel)",
   "language": "python",
   "name": "python3"
  },
  "language_info": {
   "codemirror_mode": {
    "name": "ipython",
    "version": 3
   },
   "file_extension": ".py",
   "mimetype": "text/x-python",
   "name": "python",
   "nbconvert_exporter": "python",
   "pygments_lexer": "ipython3",
   "version": "3.11.2"
  }
 },
 "nbformat": 4,
 "nbformat_minor": 5
}
