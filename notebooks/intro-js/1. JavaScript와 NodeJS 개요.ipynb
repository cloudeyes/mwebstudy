{
 "cells": [
  {
   "cell_type": "markdown",
   "metadata": {},
   "source": [
    "# JavaScript와 NodeJS 개요"
   ]
  },
  {
   "cell_type": "markdown",
   "metadata": {},
   "source": [
    "<div style=\"border-radius: 5px; padding: 8px 10px; background: #deebff\">\n",
    "  JavaScript는 뭔지 알겠는데 NodeJS는 뭔지 잘 모르는 아직도 감이 안 잡히는 분들이 많을 것입니다. 저도 그랬으니까요. 이번 튜토리얼 시간에는 이 둘을 먼저 비교하면서 JavaScript 라는 언어의 구현체중 하나로서의 NodeJS를 이해해보도록 합시다.\n",
    "</div>"
   ]
  },
  {
   "cell_type": "markdown",
   "metadata": {},
   "source": [
    "## JavaScript 란?\n",
    "\n",
    "- JavaScript: 프로그래밍 언어이자 스펙입니다.\n",
    "  + Java 언어를 참고해서 만든 언어인가요?"
   ]
  },
  {
   "cell_type": "markdown",
   "metadata": {},
   "source": [
    "## JavaScript는 Java언어와 관련이 없습니다...\n",
    "\n",
    "- Netscape 브라우저에 최초로 탑재된 스크립트 언어입니다.\n",
    "- 원래 이름은 Mocha -> LiveScript\n",
    "- JavaScript는 Netscape와 Sun(지금은 Oracle)과의 마케팅 협약으로 붙여진 이름입니다.\n",
    "- 공식이름은 ECMA(European Computer Manufacturers Association)Script 입니다.\n",
    "- [참고: Why is JavaScript called JavaScript, since it has nothing to do with Java?](https://stackoverflow.com/questions/2018731/why-is-javascript-called-javascript-since-it-has-nothing-to-do-with-java)"
   ]
  },
  {
   "cell_type": "markdown",
   "metadata": {},
   "source": [
    "## NodeJS: JavaScript 언어의 실행기\n",
    "- NodeJS는 JavaSCript 실행기(인터프리터) 구현 중 **하나** 입니다.\n",
    "  + 모든 브라우저에는 자바스크립트 실행기가 내장되어 있습니다.\n",
    "- NodeJS 는 Chrome에 내장된 V8 엔진을 브라우저 바깥에서도 쓸수 있도록 OS API를 추가하여 별도 패키징한 실행기입니다.\n",
    "- [NodeJS vs 브라우저JS(?) 차이](https://nodejs.dev/differences-between-nodejs-and-the-browser)\n",
    "  + NodeJS는 OS API에 접근 가능합니다: File I/O, Socket 네트워킹 등\n",
    "    + 브라우저는 보안상 OS에 직접 접근하는 API를 제공하지 않습니다.\n",
    "  + 브라우저는 웹 브라우저 상태 확인과 조작을 위해 브라우저 API를 제공합니다.\n",
    "    + window, 쿠키, DOM, 이벤트 핸들러, local storage, 등등"
   ]
  },
  {
   "cell_type": "markdown",
   "metadata": {},
   "source": [
    "## ECMAScript 표준과 NodeJS\n",
    "\n",
    "- ECMAScript(JavaScript)는 세계에서 가장 빨리 변하고 있는 언어중 하나입니다.\n",
    "- 표준 스펙은 [ECMA](http://www.ecma-international.org) 라는 국제기구에서 정합니다. \n",
    "  + 현재 최신 버전은: ES2020 또는 ESNEXT\n",
    "  + 가장 최첨단(Bleeding Edge)는 proposal 단계라 불리면 state-1, 2, 3을 거쳐 최종 표준으로 채택됩니다.\n",
    "- NodeJS 역시 엄청나게 빨리 업그레이드가 되는 자바스크립트 실행 엔진입니다.\n",
    "  + 2020년 1월 1일 현재 최신 버전은: v13.5.0 \n",
    "  + https://node.green 에서 NodeJS 버전별로 지원하는 JavaScript 표준을 확인할 수 있습니다."
   ]
  },
  {
   "cell_type": "markdown",
   "metadata": {},
   "source": [
    "## ES6(또는 ES2015) 표준\n",
    "\n",
    "- 2015년 제정된 자바스크립트계(?)의 산업표준입니다.\n",
    "- 불행히도 IE11은 지원하지 않습니다.\n",
    "- [ES6 Cheatsheeet](https://github.com/DrkSephy/es6-cheatsheet)\n",
    "- [ES2015+ Cheet Sheet](https://devhints.io/es6)"
   ]
  },
  {
   "cell_type": "markdown",
   "metadata": {},
   "source": [
    "## 파이썬으로 ES6 순식간에 익히기\n",
    "\n",
    "<p style=\"color: #666; font-size: 90%\">\n",
    "(여러분이 처음 시작하는 JavaScript가 ES5가 아니라 ES6 라는점이 참 다행입니다.\n",
    "ES5로 시작했다면 온갖 불합리한 언어 특성에 당황했을 테니까요)\n",
    "</p\n",
    "\n",
    "다행히도 ES6로 업데이트 되면서 JavaScript는 파이썬과 비교해도 손색 없을  언어가 되었습니다. 파이썬과 비교해보면서 자바 스크립트를 쉽게 공부해 봅시다.\n",
    "\n",
    "### 파이썬과 자바스크립트의 유사한 문법\n",
    "\n",
    "- 변수 선언문 \n",
    "- 각종 연산자\n",
    "- 반복문: `while', `for`\n",
    "- \n"
   ]
  },
  {
   "cell_type": "markdown",
   "metadata": {},
   "source": [
    "### 파이썬과 JavaScript 주요 차이\n",
    "\n",
    "#### 블록 스코프를 중괄호(`{ ... }`)로 나타냅니다.\n",
    "\n",
    "파이썬과는 다른 점이지만 다른 언어와 비교하면 중괄호 스코프가 오히려 더 자연스럽습니다.\n",
    "\n",
    "#### 상수(`const`)를 정의할 수 있습니다.\n",
    "\n",
    "파이썬에는 상수가 없지만 자바스크립트에는 있습니다.\n",
    "사실 이건 파이썬의 이상한(?) 점으로 상수를 정의 할 수 없는 파이썬이 특이한 것입니다.\n",
    "\n",
    "#### 클래스 변수(class value or attributes)가 없습니다.\n",
    "\n",
    "```python\n",
    "class Hello:\n",
    "  msg = 'world'\n",
    "```\n",
    "\n",
    "```js\n",
    "class Hello {}\n",
    "Hello.msg = 'world'\n",
    "```\n",
    "\n",
    "#### Comprehension 대신 Method Chaining 을 사용해야 합니다.\n",
    "\n",
    "**예제: 1부터 10까지 짝수 리스트 얻기**\n",
    "- Python:\n",
    "```python \n",
    "[x for x in range(1, 11) if x % 2 == 0]\n",
    "\n",
    "```\n",
    "- JavaScript\n",
    "```js\n",
    "[...Array(11).keys()].slice(1).filter(x => x % 2 == 0)\n",
    "```"
   ]
  },
  {
   "cell_type": "code",
   "execution_count": 1,
   "metadata": {},
   "outputs": [
    {
     "data": {
      "text/plain": [
       "[ 2, 4, 6, 8, 10 ]"
      ]
     },
     "execution_count": 1,
     "metadata": {},
     "output_type": "execute_result"
    }
   ],
   "source": [
    "[...Array(11).keys()].slice(1).filter(x => x % 2 == 0)"
   ]
  },
  {
   "cell_type": "markdown",
   "metadata": {},
   "source": [
    "### `for` 문을 쓰는 3가지 방법\n",
    "\n",
    "- `for( ..; ..; ..) { ... }`\n",
    "- `for(.. in ..) { ... } `\n",
    "- `for(.. of ..) .. { ... }`\n",
    "\n",
    "### Associative Array 와 Map\n",
    "\n",
    "- key 읽기\n",
    "  + `Object.keys`\n",
    "  + `for(.. in ..)`\n",
    "  \n",
    "- value 읽기\n",
    "  + `Object.values`\n",
    "  + "
   ]
  },
  {
   "cell_type": "markdown",
   "metadata": {},
   "source": [
    "## ES6 훑어보기"
   ]
  },
  {
   "cell_type": "markdown",
   "metadata": {},
   "source": [
    "### 상수(`const`) 선언"
   ]
  },
  {
   "cell_type": "markdown",
   "metadata": {},
   "source": [
    "### 블록과 스코프"
   ]
  },
  {
   "cell_type": "markdown",
   "metadata": {},
   "source": [
    "### Arrow 함수"
   ]
  },
  {
   "cell_type": "markdown",
   "metadata": {},
   "source": [
    "### 문자열\n",
    "\n",
    "- `.inclues()`\n",
    "- `.repeat()`"
   ]
  },
  {
   "cell_type": "markdown",
   "metadata": {},
   "source": [
    "### 템플릿 문자열 리터럴(Interpolation)\n",
    "\n",
    "```javascript\n",
    "const msg = `hello \n",
    "world`\n",
    "const text = `I say, \"${msg}\"`\n",
    "```"
   ]
  },
  {
   "cell_type": "markdown",
   "metadata": {},
   "source": [
    "### 객체 분해(Destructing)\n",
    "\n",
    "#### 배열 해체\n",
    "\n",
    "#### 객체 해체"
   ]
  },
  {
   "cell_type": "markdown",
   "metadata": {},
   "source": [
    "### 모듈\n",
    "\n",
    "```javascript\n",
    "import 'underscore';\n",
    "import { sumTwo, sumThree } from 'math/addition';\n",
    "import { sumTwo as addTwoNumbers } from 'math/additions';\n",
    "import * as util from 'math/addition';\n",
    "import api from 'math/addition'; // `default` 바인딩\n",
    "\n",
    "export { foo as default, foo1, foo2 };\n",
    "```"
   ]
  },
  {
   "cell_type": "markdown",
   "metadata": {},
   "source": [
    "### 파라메터\n",
    "\n",
    "#### 기본값\n",
    "\n",
    "#### 나머지(Rest) 파라메터\n",
    "\n",
    "#### 이름있는(Named) 파라메터"
   ]
  },
  {
   "cell_type": "markdown",
   "metadata": {},
   "source": [
    "### 펼치기(Spread) 연산자\n",
    "\n",
    "- 배열에 사용하기\n",
    "- 객체에 사용하기"
   ]
  },
  {
   "cell_type": "code",
   "execution_count": null,
   "metadata": {},
   "outputs": [],
   "source": [
    "Math.max(...[-1, 100, 9001, -32]); // 9001"
   ]
  },
  {
   "cell_type": "markdown",
   "metadata": {},
   "source": [
    "### 클래스"
   ]
  },
  {
   "cell_type": "markdown",
   "metadata": {},
   "source": [
    "### 맵"
   ]
  },
  {
   "cell_type": "markdown",
   "metadata": {},
   "source": [
    "### Promise"
   ]
  },
  {
   "cell_type": "markdown",
   "metadata": {},
   "source": [
    "### 제너레이터"
   ]
  },
  {
   "cell_type": "markdown",
   "metadata": {},
   "source": [
    "### Async, Await"
   ]
  },
  {
   "cell_type": "markdown",
   "metadata": {},
   "source": [
    "### Getter, Setter"
   ]
  },
  {
   "cell_type": "markdown",
   "metadata": {},
   "source": [
    "## JavaScript는 컴파일 언어다?\n",
    "\n",
    "- https://babeljs.io : **Babel is a JavaScript _compiler_**\n",
    "- 엄밀히 구분해 말하면: 트랜스파일러(Transpiler)\n",
    "  - language syntax 레벨에서 다른 언어로 변환하는 컴파일러\n",
    "  > **Compiling** is the general term for taking source code written in one language and transforming into another.\n",
    "  >\n",
    "  > **Transpiling** is a specific term for taking source code written in one language and transforming into another language that has a similar level of abstraction."
   ]
  },
  {
   "cell_type": "markdown",
   "metadata": {},
   "source": [
    "### 프로젝트 초기화\n",
    "\n",
    "```\n",
    "$ pnpm init\n",
    "$ pnpm install @babel/core @babel/cli @babel/preset-env @babel/polyfill\n",
    "```"
   ]
  },
  {
   "cell_type": "code",
   "execution_count": 1,
   "metadata": {
    "tags": []
   },
   "outputs": [
    {
     "name": "stdout",
     "output_type": "stream",
     "text": [
      "node version: v18.14.2\n"
     ]
    }
   ],
   "source": [
    "console.log('node version:', process.version)"
   ]
  },
  {
   "cell_type": "code",
   "execution_count": 2,
   "metadata": {
    "tags": []
   },
   "outputs": [],
   "source": [
    "const babel = require('@babel/core/lib')"
   ]
  },
  {
   "cell_type": "code",
   "execution_count": 3,
   "metadata": {
    "tags": []
   },
   "outputs": [],
   "source": [
    "let transform = null"
   ]
  },
  {
   "cell_type": "code",
   "execution_count": 5,
   "metadata": {
    "tags": []
   },
   "outputs": [
    {
     "data": {
      "text/plain": [
       "[Function: transform]"
      ]
     },
     "execution_count": 5,
     "metadata": {},
     "output_type": "execute_result"
    }
   ],
   "source": [
    "transform = (code, targets={ie: '11'}) =>\n",
    "    console.log(babel.transformSync(code, \n",
    "    {presets: [\n",
    "        ['@babel/preset-env', {\n",
    "            targets: { \n",
    "                ie: '11',\n",
    "            },\n",
    "        }]\n",
    "    ],\n",
    "    plugins: [\n",
    "        'transform-class-properties',\n",
    "        'transform-object-rest-spread',\n",
    "        //'@babel/plugin-proposal-class-properties',\n",
    "        //'@babel/plugin-proposal-private-methods',\n",
    "    ]\n",
    "}).code)"
   ]
  },
  {
   "cell_type": "code",
   "execution_count": 7,
   "metadata": {
    "tags": []
   },
   "outputs": [
    {
     "name": "stdout",
     "output_type": "stream",
     "text": [
      "0\n",
      "1\n",
      "2\n"
     ]
    }
   ],
   "source": [
    "for (const a in [1,2,3]) { \n",
    "    console.log(a);\n",
    "}"
   ]
  },
  {
   "cell_type": "code",
   "execution_count": 8,
   "metadata": {
    "tags": []
   },
   "outputs": [
    {
     "name": "stdout",
     "output_type": "stream",
     "text": [
      "1\n",
      "2\n",
      "3\n"
     ]
    }
   ],
   "source": [
    "for (const a of [1,2,3]) { \n",
    "    console.log(a);\n",
    "}"
   ]
  },
  {
   "cell_type": "code",
   "execution_count": 9,
   "metadata": {
    "tags": []
   },
   "outputs": [
    {
     "name": "stdout",
     "output_type": "stream",
     "text": [
      "\"use strict\";\n",
      "\n",
      "var hello = function hello() {\n",
      "  return console.log('hello world');\n",
      "};\n",
      "for (var _i = 0, _arr = [1, 2, 3]; _i < _arr.length; _i++) {\n",
      "  var a = _arr[_i];\n",
      "  console.log(a);\n",
      "}\n",
      ";\n",
      "// for a in [1,2,3]: print(a)\n",
      "// for (const a in [1,2,3]) { /* ... */ }\n"
     ]
    }
   ],
   "source": [
    "transform(`\n",
    "    const hello = () => console.log('hello world');\n",
    "    for (const a of [1,2,3]) {\n",
    "       console.log(a)\n",
    "    };\n",
    "    // for a in [1,2,3]: print(a)\n",
    "    // for (const a in [1,2,3]) { /* ... */ }\n",
    "`)"
   ]
  },
  {
   "cell_type": "code",
   "execution_count": 11,
   "metadata": {
    "tags": []
   },
   "outputs": [
    {
     "name": "stdout",
     "output_type": "stream",
     "text": [
      "\"use strict\";\n",
      "\n",
      "Object.defineProperty(exports, \"__esModule\", {\n",
      "  value: true\n",
      "});\n",
      "exports.checkAge = checkAge;\n",
      "function checkAge(age) {\n",
      "  if (age > 30) {\n",
      "    console.log('나는 ... 아직 젊다!');\n",
      "  } else {\n",
      "    console.log('나는 진짜 젊다');\n",
      "  }\n",
      "}\n"
     ]
    }
   ],
   "source": [
    "transform(`\n",
    "    export function checkAge(age) {\n",
    "        if (age > 30) {\n",
    "            console.log('나는 ... 아직 젊다!')\n",
    "        } else {\n",
    "            console.log('나는 진짜 젊다')\n",
    "        }\n",
    "    }\n",
    "`);"
   ]
  },
  {
   "cell_type": "code",
   "execution_count": 3,
   "metadata": {
    "tags": []
   },
   "outputs": [
    {
     "name": "stdout",
     "output_type": "stream",
     "text": [
      "Hello\n"
     ]
    }
   ],
   "source": [
    "{\n",
    "    class Hello {\n",
    "      name = 'test'\n",
    "      constructor() {\n",
    "        this.name = 'Hello'\n",
    "      }\n",
    "    }\n",
    "    \n",
    "    const hello = new Hello();\n",
    "    console.log(hello.name);\n",
    "}"
   ]
  },
  {
   "cell_type": "code",
   "execution_count": 4,
   "metadata": {
    "tags": []
   },
   "outputs": [
    {
     "name": "stdout",
     "output_type": "stream",
     "text": [
      "\"use strict\";\n",
      "\n",
      "function _typeof(obj) { \"@babel/helpers - typeof\"; return _typeof = \"function\" == typeof Symbol && \"symbol\" == typeof Symbol.iterator ? function (obj) { return typeof obj; } : function (obj) { return obj && \"function\" == typeof Symbol && obj.constructor === Symbol && obj !== Symbol.prototype ? \"symbol\" : typeof obj; }, _typeof(obj); }\n",
      "function _defineProperties(target, props) { for (var i = 0; i < props.length; i++) { var descriptor = props[i]; descriptor.enumerable = descriptor.enumerable || false; descriptor.configurable = true; if (\"value\" in descriptor) descriptor.writable = true; Object.defineProperty(target, _toPropertyKey(descriptor.key), descriptor); } }\n",
      "function _createClass(Constructor, protoProps, staticProps) { if (protoProps) _defineProperties(Constructor.prototype, protoProps); if (staticProps) _defineProperties(Constructor, staticProps); Object.defineProperty(Constructor, \"prototype\", { writable: false }); return Constructor; }\n",
      "function _toPropertyKey(arg) { var key = _toPrimitive(arg, \"string\"); return _typeof(key) === \"symbol\" ? key : String(key); }\n",
      "function _toPrimitive(input, hint) { if (_typeof(input) !== \"object\" || input === null) return input; var prim = input[Symbol.toPrimitive]; if (prim !== undefined) { var res = prim.call(input, hint || \"default\"); if (_typeof(res) !== \"object\") return res; throw new TypeError(\"@@toPrimitive must return a primitive value.\"); } return (hint === \"string\" ? String : Number)(input); }\n",
      "function _classCallCheck(instance, Constructor) { if (!(instance instanceof Constructor)) { throw new TypeError(\"Cannot call a class as a function\"); } }\n",
      "{\n",
      "  var Hello = /*#__PURE__*/_createClass(function Hello() {\n",
      "    _classCallCheck(this, Hello);\n",
      "    Object.defineProperty(this, \"name\", {\n",
      "      configurable: true,\n",
      "      enumerable: true,\n",
      "      writable: true,\n",
      "      value: 'test'\n",
      "    });\n",
      "    this.name = 'Hello';\n",
      "  });\n",
      "  var hello = new Hello();\n",
      "  console.log(hello.name);\n",
      "}\n"
     ]
    }
   ],
   "source": [
    "transform(`\n",
    "{\n",
    "    class Hello {\n",
    "      name = 'test'\n",
    "      constructor() {\n",
    "        this.name = 'Hello'\n",
    "      }\n",
    "    }\n",
    "    \n",
    "    const hello = new Hello();\n",
    "    console.log(hello.name);\n",
    "}\n",
    "`)"
   ]
  },
  {
   "cell_type": "code",
   "execution_count": 5,
   "metadata": {
    "tags": []
   },
   "outputs": [
    {
     "name": "stdout",
     "output_type": "stream",
     "text": [
      "Hello\n"
     ]
    }
   ],
   "source": [
    "function _classCallCheck(instance, Constructor) { if (!(instance instanceof Constructor)) { throw new TypeError(\"Cannot call a class as a function\"); } }\n",
    "\n",
    "{\n",
    "  var Hello = function Hello() {\n",
    "    _classCallCheck(this, Hello);\n",
    "\n",
    "    this.name = 'test';\n",
    "    this.name = 'Hello';\n",
    "  };\n",
    "\n",
    "  var hello = new Hello();\n",
    "  console.log(hello.name);\n",
    "}"
   ]
  },
  {
   "cell_type": "code",
   "execution_count": 6,
   "metadata": {
    "tags": []
   },
   "outputs": [
    {
     "name": "stdout",
     "output_type": "stream",
     "text": [
      "sum is: 6\n"
     ]
    }
   ],
   "source": [
    "{\n",
    "  const sum = [1,2,3].reduce((a, b) => a + b, 0);\n",
    "  console.log(`sum is: ${sum}`)\n",
    "}"
   ]
  },
  {
   "cell_type": "code",
   "execution_count": 7,
   "metadata": {
    "tags": []
   },
   "outputs": [
    {
     "name": "stdout",
     "output_type": "stream",
     "text": [
      "\"use strict\";\n",
      "\n",
      "{\n",
      "  var sum = [1, 2, 3].reduce(function (a, b) {\n",
      "    return a + b;\n",
      "  }, 0);\n",
      "  console.log(\"sum is: \".concat(sum));\n",
      "}\n"
     ]
    }
   ],
   "source": [
    "transform(`{\n",
    "const sum = [1,2,3].reduce((a, b) => a + b, 0);\n",
    "console.log(\\`sum is: \\${sum}\\`)\n",
    "}`)"
   ]
  },
  {
   "cell_type": "code",
   "execution_count": 8,
   "metadata": {
    "tags": []
   },
   "outputs": [
    {
     "name": "stdout",
     "output_type": "stream",
     "text": [
      "sum is: 6\n"
     ]
    }
   ],
   "source": [
    "{\n",
    "    var sum = [1, 2, 3].reduce(function (a, b) {\n",
    "      return a + b;\n",
    "    }, 0);\n",
    "    console.log(\"sum is: \".concat(sum));\n",
    "}"
   ]
  },
  {
   "cell_type": "markdown",
   "metadata": {
    "tags": []
   },
   "source": [
    "## Rollup.js 로 Transpiling 하기\n",
    "\n",
    "```\n",
    "pnpm install rollup @rollup/plugin-babel\n",
    "```"
   ]
  },
  {
   "cell_type": "code",
   "execution_count": 6,
   "metadata": {
    "tags": []
   },
   "outputs": [],
   "source": [
    "let transformRollup = null"
   ]
  },
  {
   "cell_type": "code",
   "execution_count": 3,
   "metadata": {
    "tags": []
   },
   "outputs": [
    {
     "data": {
      "text/plain": [
       "[AsyncFunction: transformRollup]"
      ]
     },
     "execution_count": 3,
     "metadata": {},
     "output_type": "execute_result"
    }
   ],
   "source": [
    "const rollup = require('rollup');\n",
    "const babelRollup = require('@rollup/plugin-babel').default;\n",
    "\n",
    "transformRollup = async (code, targets = {ie: '11'}) => {\n",
    "  const bundle = await rollup.rollup({\n",
    "    input: 'input.js', // Use a fake input file name to avoid warnings\n",
    "    plugins: [\n",
    "      babelRollup({\n",
    "        babelHelpers: 'bundled',\n",
    "        presets: [\n",
    "          ['@babel/preset-env', {\n",
    "            targets: targets\n",
    "          }]\n",
    "        ],\n",
    "        plugins: [\n",
    "          '@babel/plugin-proposal-class-properties',\n",
    "          '@babel/plugin-proposal-private-methods',\n",
    "          '@babel/plugin-transform-runtime'\n",
    "        ]\n",
    "      })\n",
    "    ],\n",
    "    treeshake: true,\n",
    "    inlineDynamicImports: true\n",
    "  });\n",
    "\n",
    "  const { output } = await bundle.generate({\n",
    "    format: 'iife',\n",
    "    name: 'myModule'\n",
    "  });\n",
    "\n",
    "  return output[0].code;\n",
    "};"
   ]
  },
  {
   "cell_type": "code",
   "execution_count": 1,
   "metadata": {
    "tags": []
   },
   "outputs": [
    {
     "ename": "ReferenceError",
     "evalue": "transformRollup is not defined",
     "execution_count": 1,
     "output_type": "error",
     "traceback": [
      "evalmachine.<anonymous>:7",
      "    transformRollup('const x = () => console.log(\"Hello, world!\");').then((code) => {",
      "    ^",
      "",
      "ReferenceError: transformRollup is not defined",
      "    at evalmachine.<anonymous>:7:5",
      "    at Script.runInThisContext (node:vm:129:12)",
      "    at Object.runInThisContext (node:vm:307:38)",
      "    at run ([eval]:1020:15)",
      "    at onRunRequest ([eval]:864:18)",
      "    at onMessage ([eval]:828:13)",
      "    at process.emit (node:events:513:28)",
      "    at emit (node:internal/child_process:937:14)",
      "    at process.processTicksAndRejections (node:internal/process/task_queues:83:21)"
     ]
    }
   ],
   "source": [
    "$$.async();\n",
    "\n",
    "{\n",
    "    let console = global.console;\n",
    "    let $$ = global.$$;\n",
    "    // Example usage\n",
    "    transformRollup('const x = () => console.log(\"Hello, world!\");').then((code) => {\n",
    "      $$.sendResult(code);\n",
    "    });\n",
    "}"
   ]
  },
  {
   "cell_type": "markdown",
   "metadata": {},
   "source": [
    "## Vue 코드 트랜스파일링 \n",
    "\n",
    "```\n",
    "pnpm install rollup @rollup/plugin-commonjs @rollup/plugin-node-resolve rollup-plugin-vue @rollup/plugin-babel babel-preset-env @vue/compiler-sfc\n",
    "```"
   ]
  },
  {
   "cell_type": "markdown",
   "metadata": {},
   "source": [
    "```\n",
    "node build.js\n",
    "```"
   ]
  },
  {
   "cell_type": "code",
   "execution_count": null,
   "metadata": {},
   "outputs": [],
   "source": []
  }
 ],
 "metadata": {
  "kernelspec": {
   "display_name": "JavaScript (Node.js)",
   "language": "javascript",
   "name": "javascript"
  },
  "language_info": {
   "file_extension": ".js",
   "mimetype": "application/javascript",
   "name": "javascript",
   "version": "18.14.2"
  },
  "widgets": {
   "application/vnd.jupyter.widget-state+json": {
    "state": {},
    "version_major": 2,
    "version_minor": 0
   }
  }
 },
 "nbformat": 4,
 "nbformat_minor": 4
}
