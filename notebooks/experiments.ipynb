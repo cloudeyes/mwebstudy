{
 "cells": [
  {
   "cell_type": "markdown",
   "id": "7069190c-9edb-40de-8105-d944956a2db2",
   "metadata": {},
   "source": [
    "다음 명령으로 필요한 패키지를 먼저 설치하세요\n",
    "\n",
    "```\n",
    "pnpm install @ffmpeg/ffmpeg ytdl-core stream-to-array\n",
    "```"
   ]
  },
  {
   "cell_type": "code",
   "execution_count": 1,
   "id": "298e6653-d05a-42db-bcf1-48c45578991b",
   "metadata": {
    "tags": []
   },
   "outputs": [
    {
     "name": "stdout",
     "output_type": "stream",
     "text": [
      "[info] use ffmpeg.wasm v0.11.6\n",
      "[info] load ffmpeg-core\n",
      "[info] loading ffmpeg-core\n",
      "[info] ffmpeg-core loaded\n"
     ]
    }
   ],
   "source": [
    "const fs = require('fs');\n",
    "const ytdl = require('ytdl-core');\n",
    "const toArray = require('stream-to-array');\n",
    "\n",
    "const { createFFmpeg, fetchFile } = require('@ffmpeg/ffmpeg');\n",
    "ffmpeg = createFFmpeg({\n",
    "    log: true,\n",
    "});\n",
    "$$.sendResult(ffmpeg.load());"
   ]
  },
  {
   "cell_type": "code",
   "execution_count": 2,
   "id": "f509d5e9-b4bb-4774-a2b6-ede97bbc9712",
   "metadata": {
    "tags": []
   },
   "outputs": [],
   "source": [
    "/*\n",
    "$$.sendResult(ytdl.getBasicInfo(videoUrl))\n",
    "*/"
   ]
  },
  {
   "cell_type": "code",
   "execution_count": 3,
   "id": "8d90da42-2b12-4c29-8e54-4a525dfe432a",
   "metadata": {
    "tags": []
   },
   "outputs": [],
   "source": [
    "async function convertToMp3(videoUrl, output) {\n",
    "  const audioStream = ytdl(videoUrl, { \n",
    "    filter: (format) => format.container === 'mp4' && format.audioEncoding !== null,\n",
    "    quality: 'highestaudio'\n",
    "  });\n",
    "  const chunks = await toArray(audioStream);\n",
    "  const audioData = new Uint8Array(Buffer.concat(chunks));\n",
    "  ffmpeg.FS('writeFile', 'input.mp4', audioData);\n",
    "  await ffmpeg.run('-i', 'input.mp4', /*'-q:a', '0', '-map', 'a',*/ 'output.mp3');\n",
    "  const data = ffmpeg.FS('readFile', 'output.mp3');\n",
    "  fs.writeFileSync(output, Buffer.from(data));\n",
    "}"
   ]
  },
  {
   "cell_type": "code",
   "execution_count": 4,
   "id": "9e1a645d-2f19-43ea-ba38-3eb700d0d731",
   "metadata": {
    "tags": []
   },
   "outputs": [],
   "source": [
    "const videoUrl = 'https://www.youtube.com/watch?v=HtbnfBFIJls';\n",
    "// 'https://www.youtube.com/watch?v=LhXGA4YNuBA'"
   ]
  },
  {
   "cell_type": "code",
   "execution_count": 5,
   "id": "76b0bdcd-3d6c-4b37-8040-8ebae5ba9634",
   "metadata": {
    "tags": []
   },
   "outputs": [
    {
     "name": "stdout",
     "output_type": "stream",
     "text": [
      "[info] run FS.writeFile input.mp4 <3006271 bytes binary file>\n",
      "[info] run ffmpeg command: -i input.mp4 output.mp3\n",
      "[fferr] ffmpeg version 9e96b1c Copyright (c) 2000-2020 the FFmpeg developers\n",
      "[fferr]   built with emcc (Emscripten gcc/clang-like replacement) 2.0.8 (d059fd603d0b45b584f634dc2365bc9e9a6ec1dd)\n",
      "[fferr]   configuration: --target-os=none --arch=x86_32 --enable-cross-compile --disable-x86asm --disable-inline-asm --disable-stripping --disable-programs --disable-doc --disable-debug --disable-runtime-cpudetect --disable-autodetect --extra-cflags='-O3 --closure 1 -I/src/build/include -s USE_PTHREADS=1' --extra-cxxflags='-O3 --closure 1 -I/src/build/include -s USE_PTHREADS=1' --extra-ldflags='-O3 --closure 1 -I/src/build/include -s USE_PTHREADS=1 -L/src/build/lib' --pkg-config-flags=--static --nm=llvm-nm --ar=emar --ranlib=emranlib --cc=emcc --cxx=em++ --objcc=emcc --dep-cc=emcc --enable-gpl --enable-nonfree --enable-zlib --enable-libx264 --enable-libx265 --enable-libvpx --enable-libwavpack --enable-libmp3lame --enable-libfdk-aac --enable-libtheora --enable-libvorbis --enable-libfreetype --enable-libopus --enable-libwebp --enable-libass --enable-libfribidi\n",
      "[fferr]   libavutil      56. 51.100 / 56. 51.100\n",
      "[fferr]   libavcodec     58. 91.100 / 58. 91.100\n",
      "[fferr]   libavformat    58. 45.100 / 58. 45.100\n",
      "[fferr]   libavdevice    58. 10.100 / 58. 10.100\n",
      "[fferr]   libavfilter     7. 85.100 /  7. 85.100\n",
      "[fferr]   libswscale      5.  7.100 /  5.  7.100\n",
      "[fferr]   libswresample   3.  7.100 /  3.  7.100\n",
      "[fferr]   libpostproc    55.  7.100 / 55.  7.100\n",
      "[fferr] Input #0, mov,mp4,m4a,3gp,3g2,mj2, from 'input.mp4':\n",
      "[fferr]   Metadata:\n",
      "[fferr]     major_brand     : dash\n",
      "[fferr]     minor_version   : 0\n",
      "[fferr]     compatible_brands: iso6mp41\n",
      "[fferr]     creation_time   : 2022-12-19T09:45:39.000000Z\n",
      "[fferr]   Duration: 00:03:05.71, start: 0.000000, bitrate: 129 kb/s\n",
      "[fferr]     Stream #0:0(und): Audio: aac (LC) (mp4a / 0x6134706D), 44100 Hz, stereo, fltp, 6 kb/s (default)\n",
      "[fferr]     Metadata:\n",
      "[fferr]       creation_time   : 2022-12-19T09:45:39.000000Z\n",
      "[fferr]       handler_name    : ISO Media file produced by Google Inc.\n",
      "[fferr] Stream mapping:\n",
      "[fferr]   Stream #0:0 -> #0:0 (aac (native) -> mp3 (libmp3lame))\n",
      "[fferr] Output #0, mp3, to 'output.mp3':\n",
      "[fferr]   Metadata:\n",
      "[fferr]     major_brand     : dash\n",
      "[fferr]     minor_version   : 0\n",
      "[fferr]     compatible_brands: iso6mp41\n",
      "[fferr]     TSSE            : Lavf58.45.100\n",
      "[fferr]     Stream #0:0(und): Audio: mp3 (libmp3lame), 44100 Hz, stereo, fltp (default)\n",
      "[fferr]     Metadata:\n",
      "[fferr]       creation_time   : 2022-12-19T09:45:39.000000Z\n",
      "[fferr]       handler_name    : ISO Media file produced by Google Inc.\n",
      "[fferr]       encoder         : Lavc58.91.100 libmp3lame\n",
      "[fferr] size=     256kB time=00:00:28.60 bitrate=  73.3kbits/s speed=57.2x    \n",
      "[fferr] size=     768kB time=00:00:59.24 bitrate= 106.2kbits/s speed=59.2x    \n",
      "[fferr] size=    1280kB time=00:01:27.64 bitrate= 119.6kbits/s speed=58.4x    \n",
      "[fferr] size=    1792kB time=00:01:55.25 bitrate= 127.4kbits/s speed=57.6x    \n",
      "[fferr] size=    2048kB time=00:02:24.79 bitrate= 115.9kbits/s speed=57.9x    \n",
      "[fferr] size=    2560kB time=00:02:52.51 bitrate= 121.6kbits/s speed=57.5x    \n",
      "[fferr] size=    2903kB time=00:03:05.73 bitrate= 128.0kbits/s speed=57.4x    \n",
      "[fferr] video:0kB audio:2902kB subtitle:0kB other streams:0kB global headers:0kB muxing overhead: 0.011642%\n",
      "[ffout] FFMPEG_END\n",
      "[info] run FS.readFile output.mp3\n"
     ]
    }
   ],
   "source": [
    "$$.sendResult(convertToMp3(videoUrl, 'audio.mp3'))"
   ]
  },
  {
   "cell_type": "code",
   "execution_count": null,
   "id": "00346a7d-8649-441e-8afd-5b081d650a52",
   "metadata": {},
   "outputs": [],
   "source": []
  }
 ],
 "metadata": {
  "kernelspec": {
   "display_name": "JavaScript (Node.js)",
   "language": "javascript",
   "name": "javascript"
  },
  "language_info": {
   "file_extension": ".js",
   "mimetype": "application/javascript",
   "name": "javascript",
   "version": "16.19.1"
  }
 },
 "nbformat": 4,
 "nbformat_minor": 5
}
