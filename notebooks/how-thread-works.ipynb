{
 "cells": [
  {
   "cell_type": "code",
   "execution_count": 1,
   "id": "becc90b2-ec3d-4417-9a51-5dcbd3334033",
   "metadata": {
    "tags": []
   },
   "outputs": [],
   "source": [
    "import iplantuml"
   ]
  },
  {
   "cell_type": "code",
   "execution_count": 2,
   "id": "5d1f9adc-66fe-42af-8ad5-a65c82d42d64",
   "metadata": {
    "tags": []
   },
   "outputs": [
    {
     "data": {
      "image/svg+xml": [
       "<svg xmlns=\"http://www.w3.org/2000/svg\" xmlns:xlink=\"http://www.w3.org/1999/xlink\" contentStyleType=\"text/css\" height=\"187px\" preserveAspectRatio=\"none\" style=\"width:242px;height:187px;background:#FFFFFF;\" version=\"1.1\" viewBox=\"0 0 242 187\" width=\"242px\" zoomAndPan=\"magnify\"><defs/><g><text fill=\"#000000\" font-family=\"sans-serif\" font-size=\"14\" font-weight=\"bold\" lengthAdjust=\"spacing\" textLength=\"199\" x=\"20.5\" y=\"27.9951\">Authentication Sequence</text><line style=\"stroke:#181818;stroke-width:0.5;stroke-dasharray:5.0,5.0;\" x1=\"28\" x2=\"28\" y1=\"73.5938\" y2=\"151.8594\"/><line style=\"stroke:#181818;stroke-width:0.5;stroke-dasharray:5.0,5.0;\" x1=\"215\" x2=\"215\" y1=\"73.5938\" y2=\"151.8594\"/><rect fill=\"#E2E2F0\" height=\"30.2969\" rx=\"2.5\" ry=\"2.5\" style=\"stroke:#181818;stroke-width:0.5;\" width=\"46\" x=\"5\" y=\"42.2969\"/><text fill=\"#000000\" font-family=\"sans-serif\" font-size=\"14\" lengthAdjust=\"spacing\" textLength=\"32\" x=\"12\" y=\"62.292\">Alice</text><rect fill=\"#E2E2F0\" height=\"30.2969\" rx=\"2.5\" ry=\"2.5\" style=\"stroke:#181818;stroke-width:0.5;\" width=\"46\" x=\"5\" y=\"150.8594\"/><text fill=\"#000000\" font-family=\"sans-serif\" font-size=\"14\" lengthAdjust=\"spacing\" textLength=\"32\" x=\"12\" y=\"170.8545\">Alice</text><rect fill=\"#E2E2F0\" height=\"30.2969\" rx=\"2.5\" ry=\"2.5\" style=\"stroke:#181818;stroke-width:0.5;\" width=\"42\" x=\"194\" y=\"42.2969\"/><text fill=\"#000000\" font-family=\"sans-serif\" font-size=\"14\" lengthAdjust=\"spacing\" textLength=\"28\" x=\"201\" y=\"62.292\">Bob</text><rect fill=\"#E2E2F0\" height=\"30.2969\" rx=\"2.5\" ry=\"2.5\" style=\"stroke:#181818;stroke-width:0.5;\" width=\"42\" x=\"194\" y=\"150.8594\"/><text fill=\"#000000\" font-family=\"sans-serif\" font-size=\"14\" lengthAdjust=\"spacing\" textLength=\"28\" x=\"201\" y=\"170.8545\">Bob</text><polygon fill=\"#181818\" points=\"203,100.7266,213,104.7266,203,108.7266,207,104.7266\" style=\"stroke:#181818;stroke-width:1.0;\"/><line style=\"stroke:#181818;stroke-width:1.0;\" x1=\"28\" x2=\"209\" y1=\"104.7266\" y2=\"104.7266\"/><text fill=\"#000000\" font-family=\"sans-serif\" font-size=\"13\" lengthAdjust=\"spacing\" textLength=\"149\" x=\"35\" y=\"99.6606\">Authentication Request</text><polygon fill=\"#181818\" points=\"39,129.8594,29,133.8594,39,137.8594,35,133.8594\" style=\"stroke:#181818;stroke-width:1.0;\"/><line style=\"stroke:#181818;stroke-width:1.0;stroke-dasharray:2.0,2.0;\" x1=\"33\" x2=\"214\" y1=\"133.8594\" y2=\"133.8594\"/><text fill=\"#000000\" font-family=\"sans-serif\" font-size=\"13\" lengthAdjust=\"spacing\" textLength=\"163\" x=\"45\" y=\"128.7935\">Authenti|cation Response</text><!--SRC=[AyaioKbLS2mjoKZDAybCJYp9pCzJ24ujB4tDIqxbSip9J4vLqBLJSCfFia9N5GHILLp21PHJq0Mg0Ij6gAg1AoikoCyhJWK0]--></g></svg>"
      ],
      "text/plain": [
       "<IPython.core.display.SVG object>"
      ]
     },
     "execution_count": 2,
     "metadata": {},
     "output_type": "execute_result"
    }
   ],
   "source": [
    "%%plantuml --jar\n",
    "@startuml\n",
    "title Authentication Sequence\n",
    "Alice -> Bob: Authentication Request\n",
    "Bob --> Alice: Authenti|cation Response\n",
    "@enduml"
   ]
  },
  {
   "cell_type": "code",
   "execution_count": null,
   "id": "b0660634-ba7a-4ac0-bc6a-683bcfc15085",
   "metadata": {},
   "outputs": [],
   "source": []
  }
 ],
 "metadata": {
  "kernelspec": {
   "display_name": "Python 3 (ipykernel)",
   "language": "python",
   "name": "python3"
  },
  "language_info": {
   "codemirror_mode": {
    "name": "ipython",
    "version": 3
   },
   "file_extension": ".py",
   "mimetype": "text/x-python",
   "name": "python",
   "nbconvert_exporter": "python",
   "pygments_lexer": "ipython3",
   "version": "3.11.2"
  }
 },
 "nbformat": 4,
 "nbformat_minor": 5
}
