{
 "cells": [
  {
   "cell_type": "markdown",
   "id": "c9bb6883-f9c6-4b4f-907c-c35873b84634",
   "metadata": {},
   "source": [
    "# NodeJS 의 이벤트루프 (비동기) 시스템의 이해\n",
    "\n",
    "- 참고: https://www.voidcanvas.com/nodejs-event-loop"
   ]
  },
  {
   "cell_type": "code",
   "execution_count": 1,
   "id": "47bfc657-006d-4599-ae45-24dce501b8dd",
   "metadata": {
    "tags": []
   },
   "outputs": [
    {
     "name": "stdout",
     "output_type": "stream",
     "text": [
      "== result ==\n",
      "setImmediate\n",
      "setTimeout\n"
     ]
    }
   ],
   "source": [
    "setTimeout(() => {\n",
    "    console.log('setTimeout');\n",
    "}, 0);\n",
    "setImmediate(() => {\n",
    "  console.log('setImmediate');\n",
    "});\n",
    "\"== result ==\""
   ]
  },
  {
   "cell_type": "code",
   "execution_count": null,
   "id": "f69d59f5-6c66-4a1d-9176-7ef5df264802",
   "metadata": {},
   "outputs": [],
   "source": []
  }
 ],
 "metadata": {
  "kernelspec": {
   "display_name": "JavaScript",
   "language": "javascript",
   "name": "jslab"
  },
  "language_info": {
   "file_extension": ".js",
   "mimetype": "text/javascript",
   "name": "javascript",
   "version": ""
  }
 },
 "nbformat": 4,
 "nbformat_minor": 5
}
