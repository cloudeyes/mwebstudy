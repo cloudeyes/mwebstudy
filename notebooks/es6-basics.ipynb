{
 "cells": [
  {
   "cell_type": "markdown",
   "id": "091506d8-52c3-4598-b7db-830a5aa7e058",
   "metadata": {
    "tags": []
   },
   "source": [
    "## Node JS 맛보기"
   ]
  },
  {
   "cell_type": "code",
   "execution_count": 2,
   "id": "e3b96fb3-6355-4a8b-ada9-8d5976434a5d",
   "metadata": {
    "tags": []
   },
   "outputs": [
    {
     "data": {
      "text/plain": [
       "3"
      ]
     },
     "execution_count": 2,
     "metadata": {},
     "output_type": "execute_result"
    }
   ],
   "source": [
    "let a = 1\n",
    "let b = 2\n",
    "a + b"
   ]
  },
  {
   "cell_type": "code",
   "execution_count": 3,
   "id": "e715e413-f108-4cb4-8859-c37cd6b78066",
   "metadata": {
    "tags": []
   },
   "outputs": [],
   "source": [
    "const fs = require('fs')"
   ]
  },
  {
   "cell_type": "code",
   "execution_count": 4,
   "id": "b584a76f-1cf7-4e38-9d01-8c9973860ecd",
   "metadata": {
    "tags": []
   },
   "outputs": [
    {
     "data": {
      "text/plain": [
       "<Buffer 61 73 64 66 61 73 64 66 73>"
      ]
     },
     "execution_count": 4,
     "metadata": {},
     "output_type": "execute_result"
    }
   ],
   "source": [
    "fs.readFileSync('test.txt')"
   ]
  },
  {
   "cell_type": "markdown",
   "id": "196d3e68-7517-415e-b6fe-549e64ff9e7f",
   "metadata": {},
   "source": [
    "## 기본 문법"
   ]
  },
  {
   "cell_type": "markdown",
   "id": "f65f8a56-ec37-4431-80ef-641f71df5522",
   "metadata": {
    "tags": []
   },
   "source": [
    "### 변수와 스코프"
   ]
  },
  {
   "cell_type": "code",
   "execution_count": 3,
   "id": "a02fc297-9a08-4af9-9a09-be073e53348d",
   "metadata": {
    "collapsed": true,
    "jupyter": {
     "outputs_hidden": true
    },
    "tags": []
   },
   "outputs": [
    {
     "ename": "SyntaxError",
     "evalue": "Identifier 'a' has already been declared",
     "execution_count": 3,
     "output_type": "error",
     "traceback": [
      "evalmachine.<anonymous>:1",
      "let a = 1",
      "^",
      "",
      "SyntaxError: Identifier 'a' has already been declared",
      "    at Script.runInThisContext (node:vm:129:12)",
      "    at Object.runInThisContext (node:vm:307:38)",
      "    at run ([eval]:1020:15)",
      "    at onRunRequest ([eval]:864:18)",
      "    at onMessage ([eval]:828:13)",
      "    at process.emit (node:events:513:28)",
      "    at emit (node:internal/child_process:937:14)",
      "    at process.processTicksAndRejections (node:internal/process/task_queues:83:21)"
     ]
    }
   ],
   "source": [
    "let a = 1"
   ]
  },
  {
   "cell_type": "code",
   "execution_count": 2,
   "id": "172d7673-a320-479e-a4df-597f5f3069b1",
   "metadata": {
    "tags": []
   },
   "outputs": [
    {
     "data": {
      "text/plain": [
       "2"
      ]
     },
     "execution_count": 2,
     "metadata": {},
     "output_type": "execute_result"
    }
   ],
   "source": [
    "a = 2;\n",
    "a"
   ]
  },
  {
   "cell_type": "code",
   "execution_count": 4,
   "id": "6a2da320-77a9-4b2f-9860-c4e49f56bf34",
   "metadata": {
    "tags": []
   },
   "outputs": [],
   "source": [
    "const b = 2"
   ]
  },
  {
   "cell_type": "code",
   "execution_count": 5,
   "id": "b8844af2-bb7a-4d43-b46b-64edbf4ec585",
   "metadata": {
    "tags": []
   },
   "outputs": [
    {
     "data": {
      "text/plain": [
       "2"
      ]
     },
     "execution_count": 5,
     "metadata": {},
     "output_type": "execute_result"
    }
   ],
   "source": [
    "b"
   ]
  },
  {
   "cell_type": "code",
   "execution_count": 6,
   "id": "317f5cba-11f0-4c36-bfca-340730aad9a8",
   "metadata": {
    "tags": []
   },
   "outputs": [
    {
     "ename": "TypeError",
     "evalue": "Assignment to constant variable.",
     "execution_count": 6,
     "output_type": "error",
     "traceback": [
      "evalmachine.<anonymous>:1",
      "b = 3",
      "  ^",
      "",
      "TypeError: Assignment to constant variable.",
      "    at evalmachine.<anonymous>:1:3",
      "    at Script.runInThisContext (node:vm:129:12)",
      "    at Object.runInThisContext (node:vm:307:38)",
      "    at run ([eval]:1020:15)",
      "    at onRunRequest ([eval]:864:18)",
      "    at onMessage ([eval]:828:13)",
      "    at process.emit (node:events:513:28)",
      "    at emit (node:internal/child_process:937:14)",
      "    at process.processTicksAndRejections (node:internal/process/task_queues:83:21)"
     ]
    }
   ],
   "source": [
    "b = 3"
   ]
  },
  {
   "cell_type": "code",
   "execution_count": 9,
   "id": "80de64f5-e4a0-4f85-8f8f-7a96cc91773f",
   "metadata": {
    "tags": []
   },
   "outputs": [
    {
     "name": "stdout",
     "output_type": "stream",
     "text": [
      "value: 2\n"
     ]
    }
   ],
   "source": [
    "{\n",
    "    let lv = 1;\n",
    "    console.log(`value: ${a}`)\n",
    "}"
   ]
  },
  {
   "cell_type": "code",
   "execution_count": 11,
   "id": "04bd8c74-36dc-4919-b9ee-9ac4cc54413f",
   "metadata": {
    "tags": []
   },
   "outputs": [],
   "source": [
    "{ /* ?? */ }"
   ]
  },
  {
   "cell_type": "code",
   "execution_count": 13,
   "id": "0097cf66-f133-47e2-82cc-3a26b0e4bf30",
   "metadata": {
    "tags": []
   },
   "outputs": [],
   "source": [
    "// asdfasdf\n",
    "\n",
    "/* xxx\n",
    "*/"
   ]
  },
  {
   "cell_type": "markdown",
   "id": "556f681b-db17-43b0-bc2f-a6ab31d229d7",
   "metadata": {},
   "source": [
    "#### 문자열"
   ]
  },
  {
   "cell_type": "code",
   "execution_count": 17,
   "id": "280c43a8-3d0e-4e80-9ba9-41f09c187777",
   "metadata": {
    "tags": []
   },
   "outputs": [
    {
     "name": "stdout",
     "output_type": "stream",
     "text": [
      "\n",
      "문\n",
      "자\n",
      "열\n",
      "2\n",
      "\n"
     ]
    }
   ],
   "source": [
    "'문자열' // 문자열\n",
    "\"문자열\" // 문자열\n",
    "console.log(`\n",
    "문\n",
    "자\n",
    "열\n",
    "${a}\n",
    "`) // 문자열 -- 여러 줄 지원 + PlaceHolder 지원"
   ]
  },
  {
   "cell_type": "markdown",
   "id": "36cdf4c8-3e55-4163-9d80-434d307e7378",
   "metadata": {
    "tags": []
   },
   "source": [
    "### 연산자"
   ]
  },
  {
   "cell_type": "code",
   "execution_count": 28,
   "id": "2d600c52-8b76-44fe-b0e4-0e5cc069a3e7",
   "metadata": {
    "tags": []
   },
   "outputs": [],
   "source": [
    "// 사칙연산 +, -, *, /\n",
    "// inplace 연산자 \n",
    "// +=, -=, ++, --"
   ]
  },
  {
   "cell_type": "code",
   "execution_count": 29,
   "id": "b84a4a61-c9e7-4363-86f9-af018b935650",
   "metadata": {
    "tags": []
   },
   "outputs": [
    {
     "data": {
      "text/plain": [
       "22"
      ]
     },
     "execution_count": 29,
     "metadata": {},
     "output_type": "execute_result"
    }
   ],
   "source": [
    "age++"
   ]
  },
  {
   "cell_type": "code",
   "execution_count": 30,
   "id": "86fc3ef2-9226-48f5-b11e-113b096e0327",
   "metadata": {
    "tags": []
   },
   "outputs": [
    {
     "data": {
      "text/plain": [
       "23"
      ]
     },
     "execution_count": 30,
     "metadata": {},
     "output_type": "execute_result"
    }
   ],
   "source": [
    "age"
   ]
  },
  {
   "cell_type": "code",
   "execution_count": 31,
   "id": "b5fce442-83c3-4abb-aaa4-f3a5cfe40ea6",
   "metadata": {
    "tags": []
   },
   "outputs": [
    {
     "data": {
      "text/plain": [
       "24"
      ]
     },
     "execution_count": 31,
     "metadata": {},
     "output_type": "execute_result"
    }
   ],
   "source": [
    "++age"
   ]
  },
  {
   "cell_type": "code",
   "execution_count": 32,
   "id": "5ed2da2d-3752-49bb-9aab-33f5b1edc959",
   "metadata": {
    "tags": []
   },
   "outputs": [
    {
     "data": {
      "text/plain": [
       "24"
      ]
     },
     "execution_count": 32,
     "metadata": {},
     "output_type": "execute_result"
    }
   ],
   "source": [
    "age"
   ]
  },
  {
   "cell_type": "markdown",
   "id": "5c7de6e7-ee67-4db3-a238-18a0204a3b4a",
   "metadata": {},
   "source": [
    "### 문장과 블록"
   ]
  },
  {
   "cell_type": "code",
   "execution_count": 18,
   "id": "7290a212-586e-4dc4-9957-eea2651ee913",
   "metadata": {
    "tags": []
   },
   "outputs": [],
   "source": [
    "// 세미콜론으로 구분하거나, \n",
    "// 아니면 JavaScript 파서가 눈으로 보기에(?) 명백한 라인 구분이 있으면\n",
    "// 알아서 여러 문장으로 구분해줌\n",
    "\n",
    "{\n",
    "    let a = 1\n",
    "    let b = 2\n",
    "    let c = 3\n",
    "}"
   ]
  },
  {
   "cell_type": "code",
   "execution_count": 19,
   "id": "9854a9c9-64f2-41a3-b3fb-bd33ea853fbd",
   "metadata": {
    "tags": []
   },
   "outputs": [],
   "source": [
    "{ let a = 1; let b = 2; let c = 3; }"
   ]
  },
  {
   "cell_type": "markdown",
   "id": "027d1cae-7e11-49ad-bff4-8b7c21165f52",
   "metadata": {},
   "source": [
    "### 조건문"
   ]
  },
  {
   "cell_type": "code",
   "execution_count": 20,
   "id": "510c98e3-f918-4307-b269-b2a88c28518f",
   "metadata": {
    "tags": []
   },
   "outputs": [
    {
     "name": "stdout",
     "output_type": "stream",
     "text": [
      "나는 ... 아직 젊다!\n"
     ]
    }
   ],
   "source": [
    "let age = 42;\n",
    "\n",
    "if (age > 30) {\n",
    "    console.log('나는 ... 아직 젊다!')\n",
    "} else {\n",
    "    console.log('나는 진짜 젊다')\n",
    "}"
   ]
  },
  {
   "cell_type": "code",
   "execution_count": 22,
   "id": "7a098a23-a9d7-46fa-a441-4c3dbd48545a",
   "metadata": {
    "tags": []
   },
   "outputs": [
    {
     "name": "stdout",
     "output_type": "stream",
     "text": [
      "나는 진짜 젊다\n"
     ]
    }
   ],
   "source": [
    "age -= 10; // ? 연산자\n",
    "\n",
    "if (age > 30) {\n",
    "    console.log('나는 ... 아직 젊다!')\n",
    "} else {\n",
    "    console.log('나는 진짜 젊다')\n",
    "}"
   ]
  },
  {
   "cell_type": "code",
   "execution_count": 23,
   "id": "c6c9ffe4-43d7-4cfa-ae69-ee2f2541b7ef",
   "metadata": {
    "tags": []
   },
   "outputs": [
    {
     "name": "stdout",
     "output_type": "stream",
     "text": [
      "나는 ... 아직 젊다!\n"
     ]
    }
   ],
   "source": [
    "{\n",
    "    const age = 42;\n",
    "\n",
    "    if (age > 30) {\n",
    "        console.log('나는 ... 아직 젊다!')\n",
    "    } else {\n",
    "        console.log('나는 진짜 젊다')\n",
    "    }\n",
    "}"
   ]
  },
  {
   "cell_type": "markdown",
   "id": "793fbde2-b9d5-468c-b7dd-06ba47b16423",
   "metadata": {},
   "source": [
    "### 함수"
   ]
  },
  {
   "cell_type": "code",
   "execution_count": 24,
   "id": "c8b25f6a-a81a-4b9c-93ae-000ef382bb8a",
   "metadata": {
    "tags": []
   },
   "outputs": [],
   "source": [
    "function checkAge(age) {\n",
    "    if (age > 30) {\n",
    "        console.log('나는 ... 아직 젊다!')\n",
    "    } else {\n",
    "        console.log('나는 진짜 젊다')\n",
    "    }\n",
    "}"
   ]
  },
  {
   "cell_type": "code",
   "execution_count": 26,
   "id": "c6b03491-429c-4c2c-82f9-ac0f9f229f1e",
   "metadata": {
    "tags": []
   },
   "outputs": [
    {
     "name": "stdout",
     "output_type": "stream",
     "text": [
      "나는 진짜 젊다\n"
     ]
    },
    {
     "data": {
      "text/plain": [
       "22"
      ]
     },
     "execution_count": 26,
     "metadata": {},
     "output_type": "execute_result"
    }
   ],
   "source": [
    "checkAge(age);\n",
    "age"
   ]
  },
  {
   "cell_type": "markdown",
   "id": "99c1b2ff-205f-42ba-b4d6-37afdd3a1b28",
   "metadata": {},
   "source": [
    "### 모던 함수 문법 (ES6 Arrow 문법)"
   ]
  },
  {
   "cell_type": "code",
   "execution_count": 33,
   "id": "8490ebb8-c771-4056-9399-4f3e7d697a41",
   "metadata": {
    "tags": []
   },
   "outputs": [
    {
     "name": "stdout",
     "output_type": "stream",
     "text": [
      "hello world\n"
     ]
    }
   ],
   "source": [
    "{\n",
    "    const check = () => {\n",
    "        console.log(\"hello world\");\n",
    "    };\n",
    "    \n",
    "    check()\n",
    "}"
   ]
  },
  {
   "cell_type": "code",
   "execution_count": 36,
   "id": "dff7a240-5c10-40db-8ed6-130ce0356556",
   "metadata": {
    "tags": []
   },
   "outputs": [
    {
     "name": "stdout",
     "output_type": "stream",
     "text": [
      "hello world test\n"
     ]
    }
   ],
   "source": [
    "((x) => {\n",
    "        console.log(\"hello world\", x);\n",
    "})('test')"
   ]
  },
  {
   "cell_type": "code",
   "execution_count": 37,
   "id": "4d92af56-c9e9-4e2a-8dcd-33e7a8de431c",
   "metadata": {
    "tags": []
   },
   "outputs": [],
   "source": [
    "let randomFunc = null"
   ]
  },
  {
   "cell_type": "code",
   "execution_count": 45,
   "id": "fec36e73-bc6b-48ed-abd6-776062f5d841",
   "metadata": {
    "collapsed": true,
    "jupyter": {
     "outputs_hidden": true
    },
    "tags": []
   },
   "outputs": [
    {
     "ename": "SyntaxError",
     "evalue": "Identifier 'check1' has already been declared",
     "execution_count": 45,
     "output_type": "error",
     "traceback": [
      "evalmachine.<anonymous>:1",
      "const check1 = () => { console.log('100만원'); }",
      "^",
      "",
      "SyntaxError: Identifier 'check1' has already been declared",
      "    at Script.runInThisContext (node:vm:129:12)",
      "    at Object.runInThisContext (node:vm:307:38)",
      "    at run ([eval]:1020:15)",
      "    at onRunRequest ([eval]:864:18)",
      "    at onMessage ([eval]:828:13)",
      "    at process.emit (node:events:513:28)",
      "    at emit (node:internal/child_process:937:14)",
      "    at process.processTicksAndRejections (node:internal/process/task_queues:83:21)"
     ]
    }
   ],
   "source": [
    "const check1 = () => { console.log('100만원'); }\n",
    "const check2 = () => { console.log('1000만원'); }\n",
    "const check3 = () => { console.log('100억원'); }"
   ]
  },
  {
   "cell_type": "code",
   "execution_count": 43,
   "id": "fdf9a78c-748b-43df-9265-635cef68ac1e",
   "metadata": {
    "tags": []
   },
   "outputs": [
    {
     "data": {
      "text/plain": [
       "[Function: check3]"
      ]
     },
     "execution_count": 43,
     "metadata": {},
     "output_type": "execute_result"
    }
   ],
   "source": [
    "switch (age) {\n",
    "    case 30: randomFunc = check1; break;\n",
    "    case 40: randomFunc = check2; break;\n",
    "    case 50: randomFunc = check3; break;\n",
    "    default:\n",
    "        randomFunc = () => { console.log(\"꽝!\"); }\n",
    "        break\n",
    "};"
   ]
  },
  {
   "cell_type": "code",
   "execution_count": 44,
   "id": "c45677fc-5332-4e3c-a77d-8f17149a6619",
   "metadata": {
    "tags": []
   },
   "outputs": [
    {
     "name": "stdout",
     "output_type": "stream",
     "text": [
      "100억운\n"
     ]
    }
   ],
   "source": [
    "randomFunc()"
   ]
  },
  {
   "cell_type": "markdown",
   "id": "03b99ae3-589f-4a62-b897-fb9c2a75a21b",
   "metadata": {},
   "source": [
    "### 모듈 시스템\n",
    "\n",
    "- AMD(Async Module Def) // 안씀\n",
    "- CommonJS \n",
    "- ESNext : ESM "
   ]
  },
  {
   "cell_type": "markdown",
   "id": "29b029fd-a0ad-4622-b17e-5e3404d6b4e5",
   "metadata": {},
   "source": [
    "\n",
    "```js\n",
    "// check.js\n",
    "// CommonJS\n",
    "\n",
    "function checkAge(age) {\n",
    "    if (age > 30) {\n",
    "        console.log('나는 ... 아직 젊다!')\n",
    "    } else {\n",
    "        console.log('나는 진짜 젊다')\n",
    "    }\n",
    "}\n",
    "\n",
    "module.exports {\n",
    "  checkAge\n",
    "}\n",
    "```"
   ]
  },
  {
   "cell_type": "markdown",
   "id": "942a2f9b-b675-4d44-b336-59db401e714b",
   "metadata": {},
   "source": [
    "```js\n",
    "// ESM 모듈 문법\n",
    "\n",
    "export function checkAge(age) {\n",
    "    if (age > 30) {\n",
    "        console.log('나는 ... 아직 젊다!')\n",
    "    } else {\n",
    "        console.log('나는 진짜 젊다')\n",
    "    }\n",
    "}\n",
    "```"
   ]
  },
  {
   "cell_type": "code",
   "execution_count": null,
   "id": "9bca8123-cf58-4e2d-aecf-9d35017b385b",
   "metadata": {},
   "outputs": [],
   "source": []
  }
 ],
 "metadata": {
  "kernelspec": {
   "display_name": "JavaScript (Node.js)",
   "language": "javascript",
   "name": "javascript"
  },
  "language_info": {
   "file_extension": ".js",
   "mimetype": "application/javascript",
   "name": "javascript",
   "version": "16.19.1"
  }
 },
 "nbformat": 4,
 "nbformat_minor": 5
}
